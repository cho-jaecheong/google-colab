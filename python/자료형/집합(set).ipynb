{
  "nbformat": 4,
  "nbformat_minor": 0,
  "metadata": {
    "colab": {
      "provenance": [],
      "authorship_tag": "ABX9TyNCzp72dhA5eWe91ekkSSow",
      "include_colab_link": true
    },
    "kernelspec": {
      "name": "python3",
      "display_name": "Python 3"
    },
    "language_info": {
      "name": "python"
    }
  },
  "cells": [
    {
      "cell_type": "markdown",
      "metadata": {
        "id": "view-in-github",
        "colab_type": "text"
      },
      "source": [
        "<a href=\"https://colab.research.google.com/github/cho-jaecheong/google-colab/blob/main/python/%EC%9E%90%EB%A3%8C%ED%98%95/%EC%A7%91%ED%95%A9(set).ipynb\" target=\"_parent\"><img src=\"https://colab.research.google.com/assets/colab-badge.svg\" alt=\"Open In Colab\"/></a>"
      ]
    },
    {
      "cell_type": "markdown",
      "source": [
        "# **세트(set)**\n",
        "세트는 여러 항목을 하나의 변수에 저장하는 데 사용됩니다.\n",
        "\n",
        "Set은 데이터 컬렉션을 저장하는 데 사용되는 Python의 4가지 내장 데이터 유형 중 하나이며, 나머지 3개는 List , Tuple , Dictionary 이며 각각 품질과 사용법이 다릅니다.\n",
        "\n",
        "집합은 순서가 없고 , 변경 불가능하며 , 인덱스가 없는 컬렉션입니다 .\n",
        "\n",
        "* 참고: 설정된 아이템은 변경할 수 없지만, 아이템을 제거하고 새로운 아이템을 추가할 수 있습니다.\n",
        "\n",
        "집합은 중괄호로 표현합니다.\n",
        "\n",
        "---"
      ],
      "metadata": {
        "id": "1M2SIQOOwDwI"
      }
    },
    {
      "cell_type": "code",
      "source": [
        "s1 = set([1, 2, 3])\n",
        "print(s1)\n",
        "thisset = {\"apple\", \"banana\", \"cherry\"}\n",
        "print(thisset)"
      ],
      "metadata": {
        "colab": {
          "base_uri": "https://localhost:8080/"
        },
        "id": "K8NRik3Avuhm",
        "outputId": "ef947e5e-fc2e-4ae0-a06b-1f3ee28ea8f4"
      },
      "execution_count": 1,
      "outputs": [
        {
          "output_type": "stream",
          "name": "stdout",
          "text": [
            "{1, 2, 3}\n",
            "{'banana', 'cherry', 'apple'}\n"
          ]
        }
      ]
    },
    {
      "cell_type": "markdown",
      "source": [
        "\n",
        "\n",
        "---\n",
        "\n",
        "\n",
        "\n",
        "> **교집합(&), 합집합(|), 차집합(-) 구하기**\n",
        "\n"
      ],
      "metadata": {
        "id": "TvZ_rIBmw87D"
      }
    },
    {
      "cell_type": "code",
      "source": [
        "s1 = set([1, 2, 3, 4, 5, 6])\n",
        "s2 = set([4, 5, 6, 7, 8, 9])\n",
        "# 교집합 &\n",
        "print(s1 & s2)\n",
        "print(s1.intersection(s2))\n",
        "# 합집합 |\n",
        "print(s1 | s2)\n",
        "print(s1.union(s2))\n",
        "# 차집합 -\n",
        "print(s1 - s2)\n",
        "print(s1.difference(s2))"
      ],
      "metadata": {
        "colab": {
          "base_uri": "https://localhost:8080/"
        },
        "id": "SX9khJYRwwFl",
        "outputId": "d7598bb3-2637-4e12-a742-7e62c715ab53"
      },
      "execution_count": 5,
      "outputs": [
        {
          "output_type": "stream",
          "name": "stdout",
          "text": [
            "{4, 5, 6}\n",
            "{4, 5, 6}\n",
            "{1, 2, 3, 4, 5, 6, 7, 8, 9}\n",
            "{1, 2, 3, 4, 5, 6, 7, 8, 9}\n",
            "{1, 2, 3}\n",
            "{1, 2, 3}\n"
          ]
        }
      ]
    },
    {
      "cell_type": "markdown",
      "source": [
        "---\n",
        "> **값 1개 추가하기 - add**"
      ],
      "metadata": {
        "id": "G09AqvfIyga8"
      }
    },
    {
      "cell_type": "code",
      "source": [
        "s1 = set([1, 2, 3])\n",
        "s1.add(4)\n",
        "print(s1)"
      ],
      "metadata": {
        "colab": {
          "base_uri": "https://localhost:8080/"
        },
        "id": "5Rl9Ts1xx2Wq",
        "outputId": "a523c771-ea43-4838-ca07-1035c01999f9"
      },
      "execution_count": 6,
      "outputs": [
        {
          "output_type": "stream",
          "name": "stdout",
          "text": [
            "{1, 2, 3, 4}\n"
          ]
        }
      ]
    },
    {
      "cell_type": "markdown",
      "source": [
        "---\n",
        "> **값 여러 개 추가하기 - update**"
      ],
      "metadata": {
        "id": "nh8sp1wBytDe"
      }
    },
    {
      "cell_type": "code",
      "source": [
        "s1 = set([1, 2, 3])\n",
        "s1.update([4, 5, 6])\n",
        "print(s1)"
      ],
      "metadata": {
        "colab": {
          "base_uri": "https://localhost:8080/"
        },
        "outputId": "0afb6f70-75bf-4dd7-8824-62567d4058ec",
        "id": "Orb8efVhy1S9"
      },
      "execution_count": 7,
      "outputs": [
        {
          "output_type": "stream",
          "name": "stdout",
          "text": [
            "{1, 2, 3, 4, 5, 6}\n"
          ]
        }
      ]
    },
    {
      "cell_type": "markdown",
      "source": [
        "---\n",
        "> **특정 값 제거하기 - remove**"
      ],
      "metadata": {
        "id": "wlwmQlc0y8fP"
      }
    },
    {
      "cell_type": "code",
      "source": [
        "s1 = set([1, 2, 3])\n",
        "s1.remove(2)\n",
        "print(s1)"
      ],
      "metadata": {
        "colab": {
          "base_uri": "https://localhost:8080/"
        },
        "outputId": "5768f068-a9d5-4fc9-8dbd-55dd2349ceba",
        "id": "ZYFFcpsKy8fQ"
      },
      "execution_count": 8,
      "outputs": [
        {
          "output_type": "stream",
          "name": "stdout",
          "text": [
            "{1, 3}\n"
          ]
        }
      ]
    },
    {
      "cell_type": "code",
      "source": [
        "l1=[1,2,2,3,3,4,4,5]\n",
        "s1=set(l1)\n",
        "print(s1)"
      ],
      "metadata": {
        "colab": {
          "base_uri": "https://localhost:8080/"
        },
        "id": "y1A2crTBze29",
        "outputId": "e82e8aa2-566a-4f85-e852-fdacb36727fd"
      },
      "execution_count": 10,
      "outputs": [
        {
          "output_type": "stream",
          "name": "stdout",
          "text": [
            "{1, 2, 3, 4, 5}\n"
          ]
        }
      ]
    }
  ]
}