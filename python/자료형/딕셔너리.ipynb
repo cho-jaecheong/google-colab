{
  "nbformat": 4,
  "nbformat_minor": 0,
  "metadata": {
    "colab": {
      "provenance": [],
      "authorship_tag": "ABX9TyM6D2lPuHFnXbQASwQPdFZe",
      "include_colab_link": true
    },
    "kernelspec": {
      "name": "python3",
      "display_name": "Python 3"
    },
    "language_info": {
      "name": "python"
    }
  },
  "cells": [
    {
      "cell_type": "markdown",
      "metadata": {
        "id": "view-in-github",
        "colab_type": "text"
      },
      "source": [
        "<a href=\"https://colab.research.google.com/github/cho-jaecheong/google-colab/blob/main/python/%EC%9E%90%EB%A3%8C%ED%98%95/%EB%94%95%EC%85%94%EB%84%88%EB%A6%AC.ipynb\" target=\"_parent\"><img src=\"https://colab.research.google.com/assets/colab-badge.svg\" alt=\"Open In Colab\"/></a>"
      ]
    },
    {
      "cell_type": "markdown",
      "source": [
        "# **Dictionary**\n",
        "\n",
        "Dictionary는  키:값 쌍으로 데이터 값을 저장하는 데 사용됩니다.\n",
        "\n",
        "Dictionary는 정렬되어 있고, 변경 가능하며, 중복을 허용하지 않는 컬렉션입니다.\n",
        "\n",
        "Python 버전 3.7부터 Dictionary는 정렬 되어 있습니다 . Python 3.6 및 이전 버전에서는 Dictionary  정렬되어 있지 않습니다 .\n",
        "\n",
        "Dictionary 는 중괄호로 작성되며 키와 값이 있습니다.\n",
        "\n",
        "---\n",
        "\n",
        "```\n",
        "thisdict = {\n",
        "  \"brand\": \"Ford\",\n",
        "  \"model\": \"Mustang\",\n",
        "  \"year\": 1964\n",
        "}\n",
        "print(thisdict)\n",
        "```\n",
        "\n",
        "\n"
      ],
      "metadata": {
        "id": "T6jlc60ydZny"
      }
    },
    {
      "cell_type": "markdown",
      "source": [
        "Key와 Value의 쌍 여러 개가 {}로 둘러싸여 있다. 각각의 요소는 Key: Value 형태로 이루어져 있고 쉼표(,)로 구분되어 있다."
      ],
      "metadata": {
        "id": "8w_QAbeLfEyq"
      }
    },
    {
      "cell_type": "code",
      "source": [
        "dic = {'name': 'pey', 'phone': '010-9999-1234', 'birth': '1118'}\n",
        "type(dic)\n",
        "dic\n"
      ],
      "metadata": {
        "colab": {
          "base_uri": "https://localhost:8080/"
        },
        "id": "pO0IbB1Td9jK",
        "outputId": "81d4e5b9-f79f-4b84-d608-a958c609ed1f"
      },
      "execution_count": null,
      "outputs": [
        {
          "output_type": "execute_result",
          "data": {
            "text/plain": [
              "{'name': 'pey', 'phone': '010-9999-1234', 'birth': '1118'}"
            ]
          },
          "metadata": {},
          "execution_count": 1
        }
      ]
    },
    {
      "cell_type": "markdown",
      "source": [
        "다음은 Key로 정숫값 1, Value로 문자열 'hi'를 사용한 예이다."
      ],
      "metadata": {
        "id": "KlATlY27fGoT"
      }
    },
    {
      "cell_type": "code",
      "source": [
        "a = {1: 'hi'}\n",
        "a"
      ],
      "metadata": {
        "colab": {
          "base_uri": "https://localhost:8080/"
        },
        "id": "td6QkJ8MerFS",
        "outputId": "d2459d0f-3fca-47ce-ef3f-f3be7c8d25ed"
      },
      "execution_count": null,
      "outputs": [
        {
          "output_type": "execute_result",
          "data": {
            "text/plain": [
              "{1: 'hi'}"
            ]
          },
          "metadata": {},
          "execution_count": 2
        }
      ]
    },
    {
      "cell_type": "markdown",
      "source": [
        "또한 다음 예처럼 Value에 리스트도 넣을 수 있다."
      ],
      "metadata": {
        "id": "IOT1vsbYfPSs"
      }
    },
    {
      "cell_type": "code",
      "source": [
        "a = {'a': [1, 2, 3]}\n",
        "a"
      ],
      "metadata": {
        "colab": {
          "base_uri": "https://localhost:8080/"
        },
        "id": "HdE3f1hCev5T",
        "outputId": "dbf7d23b-2d2d-45dc-d65a-51621cd0ed16"
      },
      "execution_count": null,
      "outputs": [
        {
          "output_type": "execute_result",
          "data": {
            "text/plain": [
              "{'a': [1, 2, 3]}"
            ]
          },
          "metadata": {},
          "execution_count": 3
        }
      ]
    },
    {
      "cell_type": "markdown",
      "source": [
        "---\n",
        "> **딕셔너리에 쌍을 추가해 보기**\n",
        "```\n",
        "a[key]=value\n",
        "```\n",
        "\n"
      ],
      "metadata": {
        "id": "s6BX_9xKfZ3V"
      }
    },
    {
      "cell_type": "code",
      "source": [
        "a = {1: 'a'}\n",
        "a[2] = 'b'\n",
        "a"
      ],
      "metadata": {
        "colab": {
          "base_uri": "https://localhost:8080/"
        },
        "id": "byvCSQC4feFM",
        "outputId": "419d3bf6-0854-4d9e-ede9-2f4b94529471"
      },
      "execution_count": null,
      "outputs": [
        {
          "output_type": "execute_result",
          "data": {
            "text/plain": [
              "{1: 'a', 2: 'b'}"
            ]
          },
          "metadata": {},
          "execution_count": 4
        }
      ]
    },
    {
      "cell_type": "markdown",
      "source": [
        "\n",
        "---\n",
        "\n",
        "> **딕셔너리에 쌍을 삭제해 보기**\n",
        "\n",
        "```\n",
        "del a[key]\n",
        "```\n",
        "\n"
      ],
      "metadata": {
        "id": "SxIxGMKfgksX"
      }
    },
    {
      "cell_type": "code",
      "source": [
        "a = {1: 'a', 2: 'b', 'name': 'pey', 3: [1, 2, 3]}\n",
        "del a[1]\n",
        "a"
      ],
      "metadata": {
        "colab": {
          "base_uri": "https://localhost:8080/"
        },
        "id": "60yQeU3YgwKu",
        "outputId": "97f18c09-f99f-490d-e5ef-b92eabad2142"
      },
      "execution_count": null,
      "outputs": [
        {
          "output_type": "execute_result",
          "data": {
            "text/plain": [
              "{2: 'b', 'name': 'pey', 3: [1, 2, 3]}"
            ]
          },
          "metadata": {},
          "execution_count": 5
        }
      ]
    },
    {
      "cell_type": "code",
      "source": [
        "dic = {'name':'pey', 'phone':'010-9999-1234', 'birth': '1118'}\n",
        "dic['name']\n",
        "\n",
        "dic['phone']\n",
        "\n",
        "dic['birth']\n"
      ],
      "metadata": {
        "colab": {
          "base_uri": "https://localhost:8080/",
          "height": 35
        },
        "id": "uLhnPl2ShYUq",
        "outputId": "6b96b124-ddc9-4925-9c0d-28d216f54de4"
      },
      "execution_count": null,
      "outputs": [
        {
          "output_type": "execute_result",
          "data": {
            "text/plain": [
              "'1118'"
            ],
            "application/vnd.google.colaboratory.intrinsic+json": {
              "type": "string"
            }
          },
          "metadata": {},
          "execution_count": 6
        }
      ]
    },
    {
      "cell_type": "markdown",
      "source": [
        "\n",
        "\n",
        "---\n",
        "\n",
        "\n",
        "파이썬 2.7 버전까지는 a.keys() 함수를 호출하면 dict_keys가 아닌 리스트를 리턴한다. 리스트를 리턴하기 위해서는 메모리 낭비가 발생하는데, 파이썬 3.0 이후 버전에서는 이러한 메모리 낭비를 줄이기 위해 dict_keys 객체를 리턴하도록 변경되었다. 다음에 소개할 dict_values, dict_items 역시 파이썬 3.0 이후 버전에서 추가된 것들이다. 만약 3.0 이후 버전에서 리턴값으로 리스트가 필요한 경우에는 list(a.keys())를 사용하면 된다. dict_keys, dict_values, dict_items 객체는 리스트로 변환하지 않더라도 기본적인 반복 구문(예: for 문)에서 사용할 수 있다.\n",
        "\n",
        "\n",
        "---\n",
        "\n"
      ],
      "metadata": {
        "id": "xGLudKSsjSlH"
      }
    },
    {
      "cell_type": "code",
      "source": [
        "a = {'name': 'pey', 'phone': '010-9999-1234', 'birth': '1118'}\n",
        "\n",
        "print(a.keys())\n",
        "\n",
        "print('-'*40)\n",
        "\n",
        "print(list(a.keys()))\n",
        "\n",
        "print('-'*40)\n",
        "\n",
        "for i in a.keys():\n",
        "  print(i)\n",
        "\n",
        "print('-'*40)\n",
        "\n",
        "for i in list(a.keys()):\n",
        "  print(i)"
      ],
      "metadata": {
        "colab": {
          "base_uri": "https://localhost:8080/"
        },
        "id": "6NysTNv3hltF",
        "outputId": "244c52f7-d868-4b87-de85-36d3e9d0e01b"
      },
      "execution_count": null,
      "outputs": [
        {
          "output_type": "stream",
          "name": "stdout",
          "text": [
            "dict_keys(['name', 'phone', 'birth'])\n",
            "----------------------------------------\n",
            "['name', 'phone', 'birth']\n",
            "----------------------------------------\n",
            "name\n",
            "phone\n",
            "birth\n",
            "----------------------------------------\n",
            "name\n",
            "phone\n",
            "birth\n"
          ]
        }
      ]
    },
    {
      "cell_type": "code",
      "source": [
        "a = {'name': 'pey', 'phone': '010-9999-1234', 'birth': '1118'}\n",
        "# Value 리스트 만들기\n",
        "print(a.values())\n",
        "# 쌍으로 얻기 - items\n",
        "print(a.items())\n",
        "# 모두 지우기\n",
        "a.clear()\n",
        "print(a)"
      ],
      "metadata": {
        "colab": {
          "base_uri": "https://localhost:8080/"
        },
        "id": "LuTusudol-P7",
        "outputId": "f8bf4b94-1789-4296-d976-95cf5f9cfae0"
      },
      "execution_count": null,
      "outputs": [
        {
          "output_type": "stream",
          "name": "stdout",
          "text": [
            "dict_values(['pey', '010-9999-1234', '1118'])\n",
            "dict_items([('name', 'pey'), ('phone', '010-9999-1234'), ('birth', '1118')])\n",
            "{}\n"
          ]
        }
      ]
    },
    {
      "cell_type": "markdown",
      "source": [
        "---\n",
        "> **a.get(key) 이용가능**\n",
        "\n"
      ],
      "metadata": {
        "id": "rnqW0piPnBr9"
      }
    },
    {
      "cell_type": "code",
      "source": [
        "a = {'name': 'pey', 'phone': '010-9999-1234', 'birth': '1118'}\n",
        "print(a['name'])\n",
        "#print(a['age']) # 키가 존재하지 않으면 KeyError 발생\n",
        "print(a.get('name'))\n",
        "print(a.get('age')) #키가 존재하지 않아도 오류나지않고 None을 리턴\n",
        "\n",
        "print(a.get('age','존재하지 않음')) #키가 존재하지 않으면 설정한 값으로"
      ],
      "metadata": {
        "colab": {
          "base_uri": "https://localhost:8080/"
        },
        "id": "5wDz269km1bJ",
        "outputId": "6986edf7-2e40-484b-c297-e3c3e9779503"
      },
      "execution_count": null,
      "outputs": [
        {
          "output_type": "stream",
          "name": "stdout",
          "text": [
            "pey\n",
            "pey\n",
            "None\n",
            "존재하지 않음\n"
          ]
        }
      ]
    },
    {
      "cell_type": "markdown",
      "source": [
        "---\n",
        "> **해당 Key가 딕셔너리 안에 있는지 조사하기 - in**\n",
        "\n"
      ],
      "metadata": {
        "id": "gkLynl5qowH2"
      }
    },
    {
      "cell_type": "code",
      "source": [
        "a = {'name':'pey', 'phone':'010-9999-1234', 'birth': '1118'}\n",
        "print('name' in a)\n",
        "print('email' in a)"
      ],
      "metadata": {
        "colab": {
          "base_uri": "https://localhost:8080/"
        },
        "id": "mL-5tIfHnFTg",
        "outputId": "e0d186d4-7eef-4e74-9329-e5a35655340c"
      },
      "execution_count": null,
      "outputs": [
        {
          "output_type": "stream",
          "name": "stdout",
          "text": [
            "True\n",
            "False\n"
          ]
        }
      ]
    }
  ]
}