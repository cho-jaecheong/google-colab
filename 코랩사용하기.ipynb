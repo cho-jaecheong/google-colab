{
  "nbformat": 4,
  "nbformat_minor": 0,
  "metadata": {
    "colab": {
      "provenance": [],
      "authorship_tag": "ABX9TyNShd/37C9cU7otIO5otqBv",
      "include_colab_link": true
    },
    "kernelspec": {
      "name": "python3",
      "display_name": "Python 3"
    },
    "language_info": {
      "name": "python"
    }
  },
  "cells": [
    {
      "cell_type": "markdown",
      "metadata": {
        "id": "view-in-github",
        "colab_type": "text"
      },
      "source": [
        "<a href=\"https://colab.research.google.com/github/cho-jaecheong/google-colab/blob/main/%EC%BD%94%EB%9E%A9%EC%82%AC%EC%9A%A9%ED%95%98%EA%B8%B0.ipynb\" target=\"_parent\"><img src=\"https://colab.research.google.com/assets/colab-badge.svg\" alt=\"Open In Colab\"/></a>"
      ]
    },
    {
      "cell_type": "markdown",
      "source": [
        "# **구글 코랩(colab) 사용하기**\n",
        "\n",
        "\n",
        "1. 장점\n",
        "  *   설치하지 않아도 된다.\n",
        "  *   개발환경의 통일이 쉽다\n",
        "\n",
        "2. 단점\n",
        "  * 개별적인 맞춤형 개발환경 설정이 어렵다\n",
        "  * 내 컴퓨터의 파일을 그냥 코딩에 사용할 수 없다\n",
        "  * 클립보드 관련 함수를 사용할 수 없다\n",
        "  (read_clipboard, to_clipboard 등)"
      ],
      "metadata": {
        "id": "oYoob1k6SVeT"
      }
    },
    {
      "cell_type": "markdown",
      "source": [
        "**셀마다 실행만 하기에 셀간의 실행 순서가 꼬여서 에러가 날때**\n",
        "  \n",
        "*   런타임 - 다시 시작 및 모두 실행\n",
        "\n"
      ],
      "metadata": {
        "id": "DajSc1koVzYv"
      }
    },
    {
      "cell_type": "markdown",
      "source": [
        "# **단축기**\n",
        "\n",
        "\n",
        "*   실행 : Ctrl + Enter\n",
        "*   한줄복사하기 : Shift + Alt + ⬇\n",
        "*   한줄삭제하기 : Ctrl + Shift + K\n",
        "*   변수일괄수정 : 변수선택 후, Ctrl + Shift + L, 변경하기\n",
        "*   코드셀 아래에 추가 : Ctrl + M + B\n",
        "*   코드셀 에 추가 : Ctrl + M + A\n",
        "*   코드셀 삭제 : Ctrl + M + D\n",
        "*   코드셀 선택 : Ctrl + Shift + S\n",
        "\n",
        "\n",
        "\n"
      ],
      "metadata": {
        "id": "-Fg-qqKHTxIl"
      }
    },
    {
      "cell_type": "markdown",
      "source": [
        "[비주얼라이저](https://jgirl.ddns.net/)"
      ],
      "metadata": {
        "id": "v-c17B-GCBuM"
      }
    }
  ]
}